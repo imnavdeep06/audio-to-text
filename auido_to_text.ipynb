{
  "nbformat": 4,
  "nbformat_minor": 0,
  "metadata": {
    "colab": {
      "provenance": [],
      "authorship_tag": "ABX9TyOZkhmP0JkAx+CqgTn8ACfw",
      "include_colab_link": true
    },
    "kernelspec": {
      "name": "python3",
      "display_name": "Python 3"
    },
    "language_info": {
      "name": "python"
    }
  },
  "cells": [
    {
      "cell_type": "markdown",
      "metadata": {
        "id": "view-in-github",
        "colab_type": "text"
      },
      "source": [
        "<a href=\"https://colab.research.google.com/github/imnavdeep06/audio-to-text/blob/main/auido_to_text.ipynb\" target=\"_parent\"><img src=\"https://colab.research.google.com/assets/colab-badge.svg\" alt=\"Open In Colab\"/></a>"
      ]
    },
    {
      "cell_type": "code",
      "execution_count": 1,
      "metadata": {
        "colab": {
          "base_uri": "https://localhost:8080/"
        },
        "id": "oOny7LcgFS0l",
        "outputId": "564e036a-59ca-4fc7-b037-4fa1867bb303"
      },
      "outputs": [
        {
          "output_type": "stream",
          "name": "stdout",
          "text": [
            "Collecting SpeechRecognition\n",
            "  Downloading speechrecognition-3.14.3-py3-none-any.whl.metadata (30 kB)\n",
            "Requirement already satisfied: pydub in /usr/local/lib/python3.11/dist-packages (0.25.1)\n",
            "Requirement already satisfied: typing-extensions in /usr/local/lib/python3.11/dist-packages (from SpeechRecognition) (4.14.0)\n",
            "Downloading speechrecognition-3.14.3-py3-none-any.whl (32.9 MB)\n",
            "\u001b[2K   \u001b[90m━━━━━━━━━━━━━━━━━━━━━━━━━━━━━━━━━━━━━━━━\u001b[0m \u001b[32m32.9/32.9 MB\u001b[0m \u001b[31m21.2 MB/s\u001b[0m eta \u001b[36m0:00:00\u001b[0m\n",
            "\u001b[?25hInstalling collected packages: SpeechRecognition\n",
            "Successfully installed SpeechRecognition-3.14.3\n"
          ]
        }
      ],
      "source": [
        "pip install SpeechRecognition pydub\n"
      ]
    },
    {
      "cell_type": "code",
      "source": [
        "import speech_recognition as sr\n",
        "from pydub import AudioSegment\n",
        "\n",
        "# Convert MP3 to WAV (if needed)\n",
        "def convert_to_wav(audio_path):\n",
        "    if audio_path.endswith(\".mp3\"):\n",
        "        sound = AudioSegment.from_mp3(audio_path)\n",
        "        audio_path = audio_path.replace(\".mp3\", \".wav\")\n",
        "        sound.export(audio_path, format=\"wav\")\n",
        "    return audio_path\n",
        "\n",
        "# Transcribe the audio\n",
        "def transcribe_audio(audio_file):\n",
        "    recognizer = sr.Recognizer()\n",
        "    audio_file = convert_to_wav(audio_file)\n",
        "\n",
        "    with sr.AudioFile(audio_file) as source:\n",
        "        print(\"Listening to audio...\")\n",
        "        audio = recognizer.record(source)\n",
        "\n",
        "    try:\n",
        "        text = recognizer.recognize_google(audio)\n",
        "        print(\"Transcription:\\n\", text)\n",
        "    except sr.UnknownValueError:\n",
        "        print(\"Could not understand the audio.\")\n",
        "    except sr.RequestError as e:\n",
        "        print(f\"Could not request results; {e}\")\n",
        "\n",
        "# Step 3: Ask user for input\n",
        "file_path = input(\"Enter path to audio file (WAV or MP3): \")\n",
        "transcribe_audio(file_path)\n"
      ],
      "metadata": {
        "colab": {
          "base_uri": "https://localhost:8080/"
        },
        "id": "JZwhLbV0GdMq",
        "outputId": "b915bd8c-47b4-4948-86c2-a8e674635e3b"
      },
      "execution_count": 3,
      "outputs": [
        {
          "output_type": "stream",
          "name": "stdout",
          "text": [
            "Enter path to audio file (WAV or MP3): /content/01.mp3\n",
            "Listening to audio...\n",
            "Transcription:\n",
            " de 8 1/2 describing a person cue card describe a famous person you would like to meet you should say who it is what they are famous for what you would do if you meet them and explain why you would like to meet them sample answer well the person I'd like to meet most is Johnny more who is a very famous film director in China I've always admired him he's a man of average height in his forties I think so far he has directed many good films he's well-known in China for his versatile talents first of all he is a famous director most of his films have won International prizes and the actresses who have appeared in his films would consequently become popular as well I like his film the road home which describes how a young teacher and a girl fell in love and how they worked and enjoyed their life in a small village it's really touching with very good photography and nice music in spite of the simple plot apart from his directing he has appeared in many films as the main character which always gives people a very deep impression I clearly remember one film in which he played the role of a Terracotta Warrior who came back to life and got involved in a love affair with a woman in recent years instead of depicting the uncivilized and backward life in the country areas he has made great efforts to publicize Chinese culture one of his famous works is a short documentary assisting China to bid for the 2008 Olympic Games it's quite spectacular he is the kind of person I would really like to meet as he's a very good example of Success Through unfailing effort perseverance and struggle if I met him I'd like to ask him about how he has succeeded Against All Odds I also like to get some advice as to how to achieve self-fulfillment as he has done\n"
          ]
        }
      ]
    }
  ]
}